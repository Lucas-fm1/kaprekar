{
 "cells": [
  {
   "cell_type": "code",
   "execution_count": 7,
   "id": "ef2e6d5d",
   "metadata": {},
   "outputs": [
    {
     "name": "stdout",
     "output_type": "stream",
     "text": [
      "Insira o número de 3 dígitos:\n",
      "(obs: não podem ser todos iguais!)\n",
      "345\n",
      "\n",
      "\n",
      "  543\n",
      "- 345\n",
      "------\n",
      "  198\n",
      "\n",
      "\n",
      "  981\n",
      "- 189\n",
      "------\n",
      "  792\n",
      "\n",
      "\n",
      "  972\n",
      "- 279\n",
      "------\n",
      "  693\n",
      "\n",
      "\n",
      "  963\n",
      "- 369\n",
      "------\n",
      "  594\n",
      "\n",
      "\n",
      "  954\n",
      "- 459\n",
      "------\n",
      "  495\n",
      "\n",
      "Número de iterações: 5\n"
     ]
    }
   ],
   "source": [
    "res = input('Insira o número de 3 dígitos:\\n(obs: não podem ser todos iguais!)\\n')\n",
    "\n",
    "it = 0\n",
    "while (res != 495):\n",
    "    x = [int(a) for a in str(res)]\n",
    "    for j in range(len(x)):\n",
    "        for i in range(len(x)-1):\n",
    "            if(x[i]<x[i+1]):\n",
    "                temp = x[i]\n",
    "                x[i] = x[i+1]\n",
    "                x[i+1] = temp\n",
    "\n",
    "    aux = int(res)\n",
    "    if(aux<100):\n",
    "        big = 100*x[0] + 10*x[1]\n",
    "        sma =  10*x[1] +  1*x[0]\n",
    "    else:\n",
    "        big = 100*x[0] + 10*x[1] + x[2]\n",
    "        sma = 100*x[2] + 10*x[1] + x[0]\n",
    "        \n",
    "    res = big-sma\n",
    "\n",
    "    print('\\n\\n ', big)\n",
    "    print('-',f'{sma:03}')\n",
    "    print('------')\n",
    "    print(' ',f'{res:03}')\n",
    "    it = it+1\n",
    "    \n",
    "print('\\nNúmero de iterações:', it)"
   ]
  },
  {
   "cell_type": "code",
   "execution_count": null,
   "id": "221b8dae",
   "metadata": {},
   "outputs": [],
   "source": []
  }
 ],
 "metadata": {
  "kernelspec": {
   "display_name": "Python 3 (ipykernel)",
   "language": "python",
   "name": "python3"
  },
  "language_info": {
   "codemirror_mode": {
    "name": "ipython",
    "version": 3
   },
   "file_extension": ".py",
   "mimetype": "text/x-python",
   "name": "python",
   "nbconvert_exporter": "python",
   "pygments_lexer": "ipython3",
   "version": "3.9.7"
  }
 },
 "nbformat": 4,
 "nbformat_minor": 5
}
