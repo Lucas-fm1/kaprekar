{
 "cells": [
  {
   "cell_type": "code",
   "execution_count": 95,
   "id": "c430e57e",
   "metadata": {},
   "outputs": [
    {
     "name": "stdout",
     "output_type": "stream",
     "text": [
      "Insira o número de 4 dígitos:\n",
      "(obs: não podem ser todos iguais!)7756\n",
      "\n",
      "\n",
      "  7765\n",
      "- 5677\n",
      "------\n",
      "  2088\n",
      "\n",
      "\n",
      "  8820\n",
      "- 0288\n",
      "------\n",
      "  8532\n",
      "\n",
      "\n",
      "  8532\n",
      "- 2358\n",
      "------\n",
      "  6174\n",
      "\n",
      "Número de iterações: 3\n"
     ]
    }
   ],
   "source": [
    "res = input('Insira o número de 4 dígitos:\\n(obs: não podem ser todos iguais!)')\n",
    "\n",
    "it = 0\n",
    "while (res != 6174):\n",
    "    x = [int(a) for a in str(res)]\n",
    "    for j in range(len(x)):\n",
    "        for i in range(len(x)-1):\n",
    "            if(x[i]<x[i+1]):\n",
    "                temp = x[i]\n",
    "                x[i] = x[i+1]\n",
    "                x[i+1] = temp\n",
    "\n",
    "    aux = int(res)\n",
    "    if(aux<1000):\n",
    "        big = 1000*x[0] + 100*x[1] + 10*x[2]\n",
    "        sma = 100*x[2] + 10*x[1] + x[0]\n",
    "    else:\n",
    "        big = 1000*x[0] + 100*x[1] + 10*x[2] + x[3]\n",
    "        sma = 1000*x[3] + 100*x[2] + 10*x[1] + x[0]\n",
    "        \n",
    "    res = big-sma\n",
    "\n",
    "    print('\\n\\n ', big)\n",
    "    print('-',f'{sma:04}')\n",
    "    #print('-', sma)\n",
    "    print('------')\n",
    "    print(' ',f'{res:04}')\n",
    "    it = it+1\n",
    "    \n",
    "print('\\nNúmero de iterações:', it)"
   ]
  },
  {
   "cell_type": "code",
   "execution_count": null,
   "id": "c9056f50",
   "metadata": {},
   "outputs": [],
   "source": []
  }
 ],
 "metadata": {
  "kernelspec": {
   "display_name": "Python 3 (ipykernel)",
   "language": "python",
   "name": "python3"
  },
  "language_info": {
   "codemirror_mode": {
    "name": "ipython",
    "version": 3
   },
   "file_extension": ".py",
   "mimetype": "text/x-python",
   "name": "python",
   "nbconvert_exporter": "python",
   "pygments_lexer": "ipython3",
   "version": "3.9.7"
  }
 },
 "nbformat": 4,
 "nbformat_minor": 5
}
